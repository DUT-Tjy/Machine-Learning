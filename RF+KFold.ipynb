{
 "cells": [
  {
   "cell_type": "code",
   "execution_count": null,
   "metadata": {},
   "outputs": [],
   "source": [
    "# 随机森林使用有放回的采样方法\n",
    "# 特征可以使用全部特征或者是平方根的特征个数"
   ]
  },
  {
   "cell_type": "code",
   "execution_count": 541,
   "metadata": {},
   "outputs": [],
   "source": [
    "import pandas as pd\n",
    "import numpy as np\n",
    "from sklearn.datasets import load_iris\n",
    "from sklearn.ensemble import RandomForestClassifier\n",
    "from sklearn.model_selection import train_test_split\n",
    "from sklearn.metrics import f1_score, accuracy_score"
   ]
  },
  {
   "cell_type": "code",
   "execution_count": 542,
   "metadata": {},
   "outputs": [],
   "source": [
    "X, y = iris.data, iris.target\n",
    "X_train, X_test, y_train, y_test = train_test_split(X, y, test_size=0.2)"
   ]
  },
  {
   "cell_type": "code",
   "execution_count": 543,
   "metadata": {},
   "outputs": [
    {
     "data": {
      "text/plain": [
       "RandomForestClassifier(bootstrap=True, class_weight=None, criterion='gini',\n",
       "            max_depth=None, max_features='auto', max_leaf_nodes=None,\n",
       "            min_impurity_decrease=0.0, min_impurity_split=None,\n",
       "            min_samples_leaf=1, min_samples_split=2,\n",
       "            min_weight_fraction_leaf=0.0, n_estimators=10, n_jobs=1,\n",
       "            oob_score=False, random_state=None, verbose=0,\n",
       "            warm_start=False)"
      ]
     },
     "execution_count": 543,
     "metadata": {},
     "output_type": "execute_result"
    }
   ],
   "source": [
    "clf = RandomForestClassifier()\n",
    "clf.fit(X_train, y_train)"
   ]
  },
  {
   "cell_type": "code",
   "execution_count": 544,
   "metadata": {},
   "outputs": [],
   "source": [
    "# 参数详解：\n",
    "# min_sample_leaf：分裂后每个子结点包含的最小样本数量\n",
    "# min_sample_split：分裂之前每个结点包含的最小样本数量\n",
    "# max_features：默认情况为特征总数的开平方\n",
    "# n_estimators：树分类器的数量，默认情况下为10\n",
    "# criterion：模型情况下选择gini\n",
    "# max_depth：树的最大深度"
   ]
  },
  {
   "cell_type": "markdown",
   "metadata": {},
   "source": [
    "## 交叉验证"
   ]
  },
  {
   "cell_type": "code",
   "execution_count": 545,
   "metadata": {},
   "outputs": [],
   "source": [
    "# KFold：K折交叉验证\n",
    "# RepeatedKFold：使用p次K折交叉验证\n",
    "# ShuffleSplit：数据打乱后进行划分\n",
    "# StratifiedKFold：训练集与原始数据分布一致\n",
    "# StratifiedShuffleSplit：划分后的训练集数据分不一致，但不一定与原始数据一致"
   ]
  },
  {
   "cell_type": "code",
   "execution_count": 546,
   "metadata": {},
   "outputs": [],
   "source": [
    "# \"\"\"KFold\"\"\"\n",
    "# from sklearn.model_selection import KFold\n",
    "# kf = KFold(n_splits=5)\n",
    "# for train_index, test_index in kf.split(X):\n",
    "#     X_train, y_train = X[train_index], y[train_index]\n",
    "#     X_test, y_test = X[test_index], y[test_index]"
   ]
  },
  {
   "cell_type": "code",
   "execution_count": 547,
   "metadata": {
    "scrolled": true
   },
   "outputs": [],
   "source": [
    "# \"\"\"RepeatedKFold\"\"\"\n",
    "# from sklearn.model_selection import RepeatedKFold\n",
    "# rkf = RepeatedKFold(n_splits=5, n_repeats=2, random_state=42)\n",
    "# for train_index, test_index in rkf.split(X):\n",
    "#     print(train_index, test_index)"
   ]
  },
  {
   "cell_type": "code",
   "execution_count": 548,
   "metadata": {},
   "outputs": [],
   "source": [
    "# \"\"\"ShuffleSplit\"\"\"\n",
    "# from sklearn.model_selection import ShuffleSplit\n",
    "# sp = ShuffleSplit(n_splits=5, random_state=24, test_size=0.2)\n",
    "# for train_index, test_index in sp.split(X):\n",
    "#     print(train_index, test_index)"
   ]
  },
  {
   "cell_type": "code",
   "execution_count": 549,
   "metadata": {},
   "outputs": [],
   "source": [
    "# \"\"\"StratifiedKFold\"\"\"\n",
    "# from sklearn.model_selection import StratifiedKFold\n",
    "# sk = StratifiedKFold(n_splits=5, shuffle=True)\n",
    "# for train_index, test_index in sk.split(X, y):\n",
    "#     X_train, y_train = X[train_index], y[train_index]\n",
    "#     X_test, y_test = X[test_index], y[test_index]"
   ]
  },
  {
   "cell_type": "code",
   "execution_count": 550,
   "metadata": {},
   "outputs": [],
   "source": [
    "# \"\"\"StratifiedShuffleSplit\"\"\"\n",
    "# from sklearn.model_selection import StratifiedShuffleSplit\n",
    "# ss = StratifiedShuffleSplit(n_splits=5, random_state=24)\n",
    "# for train_index, test_index in ss.split(X, y):\n",
    "#     X_train, y_train = X[train_index], y[train_index]\n",
    "#     X_test, y_test = X[test_index], y[test_index]"
   ]
  },
  {
   "cell_type": "markdown",
   "metadata": {},
   "source": [
    "## 交叉验证进行模型评估"
   ]
  },
  {
   "cell_type": "code",
   "execution_count": null,
   "metadata": {},
   "outputs": [],
   "source": [
    "cross_value_score：cv取整数的时候默认进行KFold\n",
    "cross_validate：可以通过列表或者字典的方法进行传入\n",
    "cross_val_predict：与cross_value_score原理相同，返回交叉验证之后的输出值"
   ]
  },
  {
   "cell_type": "code",
   "execution_count": 554,
   "metadata": {},
   "outputs": [
    {
     "name": "stdout",
     "output_type": "stream",
     "text": [
      "[0.96666667 0.96666667 0.93333333 0.96666667 1.        ]\n"
     ]
    }
   ],
   "source": [
    "\"\"\"cross_value_score\"\"\"\n",
    "from sklearn.model_selection import cross_val_score\n",
    "scores = cross_val_score(clf, iris.data, iris.target, cv=5)\n",
    "# scores = cross_val_score(clf, iris.data, iris.target, cv=5, scoring='f1_micro')\n",
    "print(scores)"
   ]
  },
  {
   "cell_type": "code",
   "execution_count": 559,
   "metadata": {},
   "outputs": [
    {
     "name": "stdout",
     "output_type": "stream",
     "text": [
      "dict_keys(['fit_time', 'score_time', 'test_precision_macro', 'train_precision_macro', 'test_recall_macro', 'train_recall_macro', 'test_f1_micro', 'train_f1_micro'])\n",
      "[0.96666667 0.96666667 0.93333333 0.9        1.        ]\n"
     ]
    }
   ],
   "source": [
    "\"\"\"cross_validate\"\"\"\n",
    "from sklearn.model_selection import cross_validate\n",
    "scoring = ['precision_macro', 'recall_macro', 'f1_micro']\n",
    "scores = cross_validate(clf, iris.data, iris.target, cv=5, scoring=scoring)\n",
    "\"\"\"返回模型训练时间，评估时间，实用结果\"\"\"\n",
    "print(scores.keys())\n",
    "print(scores['test_f1_micro'])"
   ]
  },
  {
   "cell_type": "code",
   "execution_count": 562,
   "metadata": {},
   "outputs": [
    {
     "name": "stdout",
     "output_type": "stream",
     "text": [
      "[0 0 0 0 0 0 0 0 0 0 0 0 0 0 0 0 0 0 0 0 0 0 0 0 0 0 0 0 0 0 0 0 0 0 0 0 0\n",
      " 0 0 0 0 0 0 0 0 0 0 0 0 0 1 1 1 1 1 1 1 1 1 1 1 1 1 1 1 1 1 1 1 1 2 1 1 1\n",
      " 1 1 1 2 1 1 1 1 1 2 1 1 1 1 1 1 1 1 1 1 1 1 1 1 1 1 2 2 2 2 2 2 1 2 2 2 2\n",
      " 2 2 2 2 2 2 2 2 1 2 2 2 2 2 2 2 2 2 1 2 2 2 1 2 2 2 2 2 2 2 2 2 2 2 2 2 2\n",
      " 2 2]\n",
      "0.9533333333333334\n"
     ]
    }
   ],
   "source": [
    "\"\"\"cross_val_predict\"\"\"\n",
    "from sklearn.model_selection import cross_val_predict\n",
    "predict = cross_val_predict(clf, iris.data, iris.target, cv=5)\n",
    "print(predict)\n",
    "print(accuracy_score(predict, iris.target))"
   ]
  },
  {
   "cell_type": "code",
   "execution_count": null,
   "metadata": {},
   "outputs": [],
   "source": []
  }
 ],
 "metadata": {
  "kernelspec": {
   "display_name": "Python 3",
   "language": "python",
   "name": "python3"
  },
  "language_info": {
   "codemirror_mode": {
    "name": "ipython",
    "version": 3
   },
   "file_extension": ".py",
   "mimetype": "text/x-python",
   "name": "python",
   "nbconvert_exporter": "python",
   "pygments_lexer": "ipython3",
   "version": "3.7.2"
  }
 },
 "nbformat": 4,
 "nbformat_minor": 2
}
